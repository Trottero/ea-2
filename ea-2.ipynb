{
 "metadata": {
  "language_info": {
   "codemirror_mode": {
    "name": "ipython",
    "version": 3
   },
   "file_extension": ".py",
   "mimetype": "text/x-python",
   "name": "python",
   "nbconvert_exporter": "python",
   "pygments_lexer": "ipython3",
   "version": "3.8.6-final"
  },
  "orig_nbformat": 2,
  "kernelspec": {
   "name": "python3",
   "display_name": "Python 3.8.6 64-bit ('ea-2': pipenv)",
   "metadata": {
    "interpreter": {
     "hash": "a1858b4f3d8d43c8df5f85f0e4ad61a4e11814ce8f72c4592ffc08fb3d668764"
    }
   }
  }
 },
 "nbformat": 4,
 "nbformat_minor": 2,
 "cells": [
  {
   "cell_type": "code",
   "execution_count": null,
   "metadata": {},
   "outputs": [],
   "source": [
    "from IOHexperimenter import IOH_function, IOH_logger, IOHexperimenter\n",
    "import numpy as np\n",
    "import sys\n"
   ]
  },
  {
   "cell_type": "code",
   "execution_count": null,
   "metadata": {},
   "outputs": [],
   "source": [
    "class EvolutionStrategy():\n",
    "    \n",
    "    budget = 10000\n",
    "\n",
    "    def __init__(self, hyperparameters):\n",
    "        # Mutation rate (0..1)\n",
    "        # Population size\n",
    "        # Selection type: 1: .\n",
    "        # Mutation type:\n",
    "        # Recombination type:\n",
    "\n",
    "        self.mutation_rate = hyperparameters[0]\n",
    "        self.population_size = int(hyperparameters[1])\n",
    "\n",
    "        self.selection_type = int(hyperparameters[2])\n",
    "        self.mutation_type = int(hyperparameters[3])\n",
    "        self.recombination_type = int(hyperparameters[4])\n",
    "\n",
    "    def optimize(self, problem):\n",
    "         n = problem.number_of_variables\n",
    "    \n",
    "        fopt = -sys.maxsize-1\n",
    "\n",
    "        ## !! final_target_hit returns True if the optimum has been found.\n",
    "        ## !! evaluations returns the number of function evaluations has been done on the problem. \n",
    "        while not problem.final_target_hit and problem.evaluations < budget * n:\n",
    "        \n",
    "            x = np.random.rand(n) * 10 - 5\n",
    "            \n",
    "            ## !! problem(x) returns the fitness of x on the problem\n",
    "            f = problem(x)\n",
    "\n",
    "            if f >= fopt:\n",
    "                x_prime = x\n",
    "                fopt = f\n",
    "\n",
    "        return x_prime, fopt\n",
    "\n",
    "    def eval_population(self, problem, population):\n",
    "        return np.array([problem(x) for x in population])\n",
    "        \n",
    "    def find_best(self, population, performance):\n",
    "      idx = np.argmax(performance)\n",
    "      score = performance[idx]\n",
    "      x_prime = population[idx]\n",
    "      return x_prime, score"
   ]
  },
  {
   "cell_type": "code",
   "execution_count": 2,
   "metadata": {},
   "outputs": [
    {
     "output_type": "stream",
     "name": "stdout",
     "text": [
      "dsds\n"
     ]
    }
   ],
   "source": [
    "\n",
    "\n",
    "## !! This is where your algorithm locates, please replace the function name by your names and remain arguments the same.\n",
    "def aarnoutse_witte_ES(problem):\n",
    "    n = problem.number_of_variables\n",
    "    \n",
    "    fopt = -sys.maxsize-1\n",
    "\n",
    "    ## !! final_target_hit returns True if the optimum has been found.\n",
    "    ## !! evaluations returns the number of function evaluations has been done on the problem. \n",
    "    while not problem.final_target_hit and problem.evaluations < budget * n:\n",
    "       \n",
    "        x = np.random.rand(n) * 10 - 5\n",
    "        \n",
    "        ## !! problem(x) returns the fitness of x on the problem\n",
    "        f = problem(x)\n",
    "\n",
    "        if f >= fopt:\n",
    "            x_prime = x\n",
    "            fopt = f\n",
    "\n",
    "    return x_prime, fopt\n",
    "\n",
    "if __name__ == '__main__':\n",
    "\n",
    "    ## Declarations of Ids, instances, and dimensions that the problems to be tested.\n",
    "    problem_id = range(1,25)\n",
    "    instance_id = range(1,26)\n",
    "    dimension = [2,5,20]\n",
    "\n",
    "    ## Declariation of IOHprofiler_csv_logger.\n",
    "    ## 'result' is the name of output folder.\n",
    "    ## 'studentname1_studentname2' represents algorithm name and algorithm info, which will be caption of the algorithm in IOHanalyzer.\n",
    "    logger = IOH_logger(\"./\", \"result\", \"studentname1_studentname2\", \"studentname1_studentname2\")\n",
    "\n",
    "    for p_id in problem_id :\n",
    "        for d in dimension :\n",
    "            for i_id in instance_id:\n",
    "                ## Getting the problem with corresponding id,dimension, and instance.\n",
    "                f = IOH_function(p_id, d, i_id, suite=\"BBOB\")\n",
    "                f.add_logger(logger)\n",
    "                xopt, fopt = aarnoutse_witte_ES(f)\n",
    "    logger.clear_logger()\n"
   ]
  },
  {
   "cell_type": "code",
   "execution_count": null,
   "metadata": {},
   "outputs": [],
   "source": []
  }
 ]
}